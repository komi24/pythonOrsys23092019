{
 "cells": [
  {
   "cell_type": "code",
   "execution_count": 3,
   "metadata": {},
   "outputs": [],
   "source": [
    "ma_variable = 2\n",
    "b = 4\n",
    "ma_variable = b\n"
   ]
  },
  {
   "cell_type": "code",
   "execution_count": 5,
   "metadata": {},
   "outputs": [
    {
     "name": "stdout",
     "output_type": "stream",
     "text": [
      "<class 'int'>\n"
     ]
    }
   ],
   "source": [
    "print(type(ma_variable))"
   ]
  },
  {
   "cell_type": "code",
   "execution_count": 6,
   "metadata": {},
   "outputs": [
    {
     "name": "stdout",
     "output_type": "stream",
     "text": [
      "<class 'float'>\n"
     ]
    }
   ],
   "source": [
    "ma_variable = 2.4\n",
    "print(type(ma_variable))"
   ]
  },
  {
   "cell_type": "code",
   "execution_count": 7,
   "metadata": {},
   "outputs": [
    {
     "name": "stdout",
     "output_type": "stream",
     "text": [
      "<class 'bool'>\n"
     ]
    }
   ],
   "source": [
    "ma_variable = True\n",
    "print(type(ma_variable))"
   ]
  },
  {
   "cell_type": "code",
   "execution_count": 9,
   "metadata": {},
   "outputs": [
    {
     "name": "stdout",
     "output_type": "stream",
     "text": [
      "<class 'complex'>\n"
     ]
    }
   ],
   "source": [
    "ma_variable = 1+4j\n",
    "print(type(ma_variable))"
   ]
  },
  {
   "cell_type": "code",
   "execution_count": 10,
   "metadata": {},
   "outputs": [
    {
     "name": "stdout",
     "output_type": "stream",
     "text": [
      "<class 'NoneType'>\n"
     ]
    }
   ],
   "source": [
    "ma_variable = None\n",
    "print(type(ma_variable))"
   ]
  },
  {
   "cell_type": "code",
   "execution_count": 11,
   "metadata": {},
   "outputs": [
    {
     "name": "stdout",
     "output_type": "stream",
     "text": [
      "<class 'str'>\n"
     ]
    }
   ],
   "source": [
    "ma_variable = \"abcd\"\n",
    "print(type(ma_variable))"
   ]
  },
  {
   "cell_type": "code",
   "execution_count": 21,
   "metadata": {},
   "outputs": [
    {
     "name": "stdout",
     "output_type": "stream",
     "text": [
      "True\n",
      "False\n",
      "[3, 1, 5]\n",
      "None\n",
      "3\n",
      "ma_liste\n"
     ]
    }
   ],
   "source": [
    "ma_liste = [2,4,1,6]\n",
    "ma_liste = [True, False, True, True]\n",
    "ma_liste = [True, \"False\", 2, 2+3j, None, [3,1,5]]\n",
    "b = ma_liste[0]\n",
    "print(ma_liste[0])\n",
    "print(ma_liste[1])\n",
    "print(ma_liste[-1])\n",
    "print(ma_liste[-2])\n",
    "\n",
    "print(ma_liste[-1][0])\n",
    "print(\"ma_liste\")"
   ]
  },
  {
   "cell_type": "code",
   "execution_count": 28,
   "metadata": {},
   "outputs": [
    {
     "name": "stdout",
     "output_type": "stream",
     "text": [
      "0\n",
      "1\n",
      "2\n",
      "3\n",
      "4\n",
      "5\n",
      "6\n",
      "7\n",
      "8\n",
      "9\n"
     ]
    }
   ],
   "source": [
    "# for element in [4,5,12,7]:\n",
    "#     print(element)\n",
    "#     print(\"bonjour\")\n",
    "\n",
    "# print(len([4,5,12,7]))\n",
    "for element in range(10):\n",
    "    print(element)"
   ]
  },
  {
   "cell_type": "code",
   "execution_count": 33,
   "metadata": {},
   "outputs": [
    {
     "name": "stdout",
     "output_type": "stream",
     "text": [
      "0 1\n",
      "1 2\n",
      "2 5\n",
      "3 6\n"
     ]
    }
   ],
   "source": [
    "liste_1 = [1,2,5,6]\n",
    "liste_2 = [3,5,7,9]\n",
    "\n",
    "# for i in range(len(liste_1)):\n",
    "#     print('element')\n",
    "#     print(liste_1[i])\n",
    "#     print(liste_2[i])\n",
    "    \n",
    "# for i,j in zip(liste_1, liste_2):\n",
    "#     print('element')\n",
    "#     print(i)\n",
    "#     print(j)\n",
    "\n",
    "for i, val in enumerate(liste_1):\n",
    "    print(i, val)"
   ]
  },
  {
   "cell_type": "code",
   "execution_count": 37,
   "metadata": {},
   "outputs": [
    {
     "name": "stdout",
     "output_type": "stream",
     "text": [
      "Va passer ton bac\n"
     ]
    }
   ],
   "source": [
    "age = 18\n",
    "\n",
    "if age > 18:\n",
    "    print(\"majeur\")\n",
    "elif age < 18:\n",
    "    print(\"mineur\")\n",
    "# elif age == 18:\n",
    "#     print(\"Va passer ton bac\")\n",
    "else:\n",
    "    print(\"Va passer ton bac\")"
   ]
  },
  {
   "cell_type": "code",
   "execution_count": 38,
   "metadata": {},
   "outputs": [],
   "source": [
    "ma_liste = [4,2,7,4,8,5,3]\n",
    "\n",
    "# n % 2 == 0  si n est pair\n",
    "\n",
    "# Exercice : Afficher tous les éléments pair de ma_liste"
   ]
  },
  {
   "cell_type": "code",
   "execution_count": 40,
   "metadata": {},
   "outputs": [
    {
     "name": "stdout",
     "output_type": "stream",
     "text": [
      "fizz\n",
      "1\n",
      "2\n",
      "bazz\n",
      "4\n",
      "buzz\n",
      "bazz\n",
      "7\n",
      "8\n",
      "bazz\n",
      "buzz\n",
      "11\n",
      "bazz\n",
      "13\n",
      "14\n",
      "fizz\n",
      "16\n",
      "17\n",
      "bazz\n",
      "19\n",
      "buzz\n",
      "bazz\n",
      "22\n",
      "23\n",
      "bazz\n",
      "buzz\n",
      "26\n",
      "bazz\n",
      "28\n",
      "29\n",
      "fizz\n",
      "31\n",
      "32\n",
      "bazz\n",
      "34\n",
      "buzz\n",
      "bazz\n",
      "37\n",
      "38\n",
      "bazz\n",
      "buzz\n",
      "41\n",
      "bazz\n",
      "43\n",
      "44\n",
      "fizz\n",
      "46\n",
      "47\n",
      "bazz\n",
      "49\n",
      "buzz\n",
      "bazz\n",
      "52\n",
      "53\n",
      "bazz\n",
      "buzz\n",
      "56\n",
      "bazz\n",
      "58\n",
      "59\n",
      "fizz\n",
      "61\n",
      "62\n",
      "bazz\n",
      "64\n",
      "buzz\n",
      "bazz\n",
      "67\n",
      "68\n",
      "bazz\n",
      "buzz\n",
      "71\n",
      "bazz\n",
      "73\n",
      "74\n",
      "fizz\n",
      "76\n",
      "77\n",
      "bazz\n",
      "79\n",
      "buzz\n",
      "bazz\n",
      "82\n",
      "83\n",
      "bazz\n",
      "buzz\n",
      "86\n",
      "bazz\n",
      "88\n",
      "89\n",
      "fizz\n",
      "91\n",
      "92\n",
      "bazz\n",
      "94\n",
      "buzz\n",
      "bazz\n",
      "97\n",
      "98\n",
      "bazz\n",
      "buzz\n"
     ]
    }
   ],
   "source": [
    "# Fizz Buzz\n",
    "\n",
    "# De 0 à 100\n",
    "# Pour tous les multiples de 3 afficher fizz\n",
    "# Pour tous les multiples de 5 afficher buzz\n",
    "# Pour tous les multiples de 3 et 5 afficher bazz\n",
    "# Sinnon afficher le nombre\n",
    "\n",
    "for i in range(101):\n",
    "    if i % 5 == 0 and i % 3 == 0:\n",
    "        print('fizz')\n",
    "    elif i % 5 == 0:\n",
    "        print('buzz')\n",
    "    elif i % 3 == 0:\n",
    "        print('bazz')\n",
    "    else:\n",
    "        print(i)"
   ]
  },
  {
   "cell_type": "code",
   "execution_count": 42,
   "metadata": {},
   "outputs": [],
   "source": [
    "# Ternaires\n",
    "age = 18\n",
    "\n",
    "etat = \"majeur\" if age > 18 else \"mineur\""
   ]
  },
  {
   "cell_type": "code",
   "execution_count": 45,
   "metadata": {},
   "outputs": [
    {
     "name": "stdout",
     "output_type": "stream",
     "text": [
      "[0, 2, 4, 6, 8, 10, 12, 14, 16, 18, 20, 22, 24, 26, 28, 30, 32, 34, 36, 38]\n"
     ]
    }
   ],
   "source": [
    "# Comprehensive list\n",
    "\n",
    "liste = [ i*2 for i in range(20) ]\n",
    "\n",
    "print(liste)"
   ]
  },
  {
   "cell_type": "code",
   "execution_count": 46,
   "metadata": {},
   "outputs": [
    {
     "name": "stdout",
     "output_type": "stream",
     "text": [
      "[4, 6]\n"
     ]
    }
   ],
   "source": [
    "liste = [ i for i in [3,4,6,1,3,7] if i % 2 == 0]\n",
    "\n",
    "print(liste)"
   ]
  },
  {
   "cell_type": "code",
   "execution_count": 49,
   "metadata": {},
   "outputs": [
    {
     "name": "stdout",
     "output_type": "stream",
     "text": [
      "['impair', 'pair', 'pair', 'impair', 'impair', 'impair']\n"
     ]
    }
   ],
   "source": [
    "liste = [ (\"pair\" if i % 2 == 0 else \"impair\") for i in [3,4,6,1,3,7]]\n",
    "\n",
    "print(liste)"
   ]
  },
  {
   "cell_type": "code",
   "execution_count": 54,
   "metadata": {},
   "outputs": [],
   "source": [
    "personne = {\n",
    "    'nom': 'Dupont',\n",
    "    'prenom': 'Charles',\n",
    "    'age': 34,\n",
    "    'adresses': ['Paris', 'Dijon', 'Sao Paulo']\n",
    "}"
   ]
  },
  {
   "cell_type": "code",
   "execution_count": 55,
   "metadata": {},
   "outputs": [
    {
     "name": "stdout",
     "output_type": "stream",
     "text": [
      "['Paris', 'Dijon', 'Sao Paulo']\n"
     ]
    }
   ],
   "source": [
    "print(personne['adresses'])"
   ]
  },
  {
   "cell_type": "code",
   "execution_count": 57,
   "metadata": {},
   "outputs": [],
   "source": [
    "liste_personnes = [\n",
    "{\n",
    "    'nom': 'Dupont',\n",
    "    'prenom': 'Charles',\n",
    "    'age': 34,\n",
    "    'adresses': ['Paris', 'Dijon', 'Sao Paulo']\n",
    "},\n",
    "{\n",
    "    'nom': 'Durand',\n",
    "    'prenom': 'Helene',\n",
    "    'age': 24,\n",
    "    'adresses': ['Paris', 'Dijon', 'Sao Paulo']\n",
    "},\n",
    "{\n",
    "    'nom': 'Dumont',\n",
    "    'prenom': 'Martin',\n",
    "    'age': 10,\n",
    "    'adresses': ['Paris', 'Dijon', 'Sao Paulo']\n",
    "},\n",
    "{\n",
    "    'nom': 'Dupond',\n",
    "    'prenom': 'Joana',\n",
    "    'age': 57,\n",
    "    'adresses': ['Paris', 'Dijon', 'Sao Paulo']\n",
    "}    \n",
    "]"
   ]
  },
  {
   "cell_type": "code",
   "execution_count": 59,
   "metadata": {},
   "outputs": [
    {
     "name": "stdout",
     "output_type": "stream",
     "text": [
      "['Dupont', 'Durand', 'Dumont', 'Dupond']\n"
     ]
    }
   ],
   "source": [
    "liste_noms = [i['nom'] for i in liste_personnes]\n",
    "print(liste_noms)"
   ]
  },
  {
   "cell_type": "code",
   "execution_count": null,
   "metadata": {},
   "outputs": [],
   "source": []
  }
 ],
 "metadata": {
  "kernelspec": {
   "display_name": "Python 3",
   "language": "python",
   "name": "python3"
  },
  "language_info": {
   "codemirror_mode": {
    "name": "ipython",
    "version": 3
   },
   "file_extension": ".py",
   "mimetype": "text/x-python",
   "name": "python",
   "nbconvert_exporter": "python",
   "pygments_lexer": "ipython3",
   "version": "3.7.3"
  }
 },
 "nbformat": 4,
 "nbformat_minor": 2
}
