{
 "cells": [
  {
   "cell_type": "markdown",
   "metadata": {},
   "source": [
    "## Intro Python\n",
    "\n",
    "### Les variables"
   ]
  },
  {
   "cell_type": "code",
   "execution_count": 3,
   "metadata": {},
   "outputs": [],
   "source": [
    "ma_variable = 2\n",
    "b = 4\n",
    "ma_variable = b\n"
   ]
  },
  {
   "cell_type": "code",
   "execution_count": 5,
   "metadata": {},
   "outputs": [
    {
     "name": "stdout",
     "output_type": "stream",
     "text": [
      "<class 'int'>\n"
     ]
    }
   ],
   "source": [
    "print(type(ma_variable))"
   ]
  },
  {
   "cell_type": "code",
   "execution_count": 6,
   "metadata": {},
   "outputs": [
    {
     "name": "stdout",
     "output_type": "stream",
     "text": [
      "<class 'float'>\n"
     ]
    }
   ],
   "source": [
    "ma_variable = 2.4\n",
    "print(type(ma_variable))"
   ]
  },
  {
   "cell_type": "code",
   "execution_count": 7,
   "metadata": {},
   "outputs": [
    {
     "name": "stdout",
     "output_type": "stream",
     "text": [
      "<class 'bool'>\n"
     ]
    }
   ],
   "source": [
    "ma_variable = True\n",
    "print(type(ma_variable))"
   ]
  },
  {
   "cell_type": "code",
   "execution_count": 9,
   "metadata": {},
   "outputs": [
    {
     "name": "stdout",
     "output_type": "stream",
     "text": [
      "<class 'complex'>\n"
     ]
    }
   ],
   "source": [
    "ma_variable = 1+4j\n",
    "print(type(ma_variable))"
   ]
  },
  {
   "cell_type": "code",
   "execution_count": 10,
   "metadata": {},
   "outputs": [
    {
     "name": "stdout",
     "output_type": "stream",
     "text": [
      "<class 'NoneType'>\n"
     ]
    }
   ],
   "source": [
    "ma_variable = None\n",
    "print(type(ma_variable))"
   ]
  },
  {
   "cell_type": "code",
   "execution_count": 11,
   "metadata": {},
   "outputs": [
    {
     "name": "stdout",
     "output_type": "stream",
     "text": [
      "<class 'str'>\n"
     ]
    }
   ],
   "source": [
    "ma_variable = \"abcd\"\n",
    "print(type(ma_variable))"
   ]
  },
  {
   "cell_type": "code",
   "execution_count": 21,
   "metadata": {},
   "outputs": [
    {
     "name": "stdout",
     "output_type": "stream",
     "text": [
      "True\n",
      "False\n",
      "[3, 1, 5]\n",
      "None\n",
      "3\n",
      "ma_liste\n"
     ]
    }
   ],
   "source": [
    "ma_liste = [2,4,1,6]\n",
    "ma_liste = [True, False, True, True]\n",
    "ma_liste = [True, \"False\", 2, 2+3j, None, [3,1,5]]\n",
    "b = ma_liste[0]\n",
    "print(ma_liste[0])\n",
    "print(ma_liste[1])\n",
    "print(ma_liste[-1])\n",
    "print(ma_liste[-2])\n",
    "\n",
    "print(ma_liste[-1][0])\n",
    "print(\"ma_liste\")"
   ]
  },
  {
   "cell_type": "code",
   "execution_count": 28,
   "metadata": {},
   "outputs": [
    {
     "name": "stdout",
     "output_type": "stream",
     "text": [
      "0\n",
      "1\n",
      "2\n",
      "3\n",
      "4\n",
      "5\n",
      "6\n",
      "7\n",
      "8\n",
      "9\n"
     ]
    }
   ],
   "source": [
    "# for element in [4,5,12,7]:\n",
    "#     print(element)\n",
    "#     print(\"bonjour\")\n",
    "\n",
    "# print(len([4,5,12,7]))\n",
    "for element in range(10):\n",
    "    print(element)"
   ]
  },
  {
   "cell_type": "code",
   "execution_count": 33,
   "metadata": {},
   "outputs": [
    {
     "name": "stdout",
     "output_type": "stream",
     "text": [
      "0 1\n",
      "1 2\n",
      "2 5\n",
      "3 6\n"
     ]
    }
   ],
   "source": [
    "liste_1 = [1,2,5,6]\n",
    "liste_2 = [3,5,7,9]\n",
    "\n",
    "# for i in range(len(liste_1)):\n",
    "#     print('element')\n",
    "#     print(liste_1[i])\n",
    "#     print(liste_2[i])\n",
    "    \n",
    "# for i,j in zip(liste_1, liste_2):\n",
    "#     print('element')\n",
    "#     print(i)\n",
    "#     print(j)\n",
    "\n",
    "for i, val in enumerate(liste_1):\n",
    "    print(i, val)"
   ]
  },
  {
   "cell_type": "code",
   "execution_count": 37,
   "metadata": {},
   "outputs": [
    {
     "name": "stdout",
     "output_type": "stream",
     "text": [
      "Va passer ton bac\n"
     ]
    }
   ],
   "source": [
    "age = 18\n",
    "\n",
    "if age > 18:\n",
    "    print(\"majeur\")\n",
    "elif age < 18:\n",
    "    print(\"mineur\")\n",
    "# elif age == 18:\n",
    "#     print(\"Va passer ton bac\")\n",
    "else:\n",
    "    print(\"Va passer ton bac\")"
   ]
  },
  {
   "cell_type": "code",
   "execution_count": 38,
   "metadata": {},
   "outputs": [],
   "source": [
    "ma_liste = [4,2,7,4,8,5,3]\n",
    "\n",
    "# n % 2 == 0  si n est pair\n",
    "\n",
    "# Exercice : Afficher tous les éléments pair de ma_liste"
   ]
  },
  {
   "cell_type": "code",
   "execution_count": 40,
   "metadata": {},
   "outputs": [
    {
     "name": "stdout",
     "output_type": "stream",
     "text": [
      "fizz\n",
      "1\n",
      "2\n",
      "bazz\n",
      "4\n",
      "buzz\n",
      "bazz\n",
      "7\n",
      "8\n",
      "bazz\n",
      "buzz\n",
      "11\n",
      "bazz\n",
      "13\n",
      "14\n",
      "fizz\n",
      "16\n",
      "17\n",
      "bazz\n",
      "19\n",
      "buzz\n",
      "bazz\n",
      "22\n",
      "23\n",
      "bazz\n",
      "buzz\n",
      "26\n",
      "bazz\n",
      "28\n",
      "29\n",
      "fizz\n",
      "31\n",
      "32\n",
      "bazz\n",
      "34\n",
      "buzz\n",
      "bazz\n",
      "37\n",
      "38\n",
      "bazz\n",
      "buzz\n",
      "41\n",
      "bazz\n",
      "43\n",
      "44\n",
      "fizz\n",
      "46\n",
      "47\n",
      "bazz\n",
      "49\n",
      "buzz\n",
      "bazz\n",
      "52\n",
      "53\n",
      "bazz\n",
      "buzz\n",
      "56\n",
      "bazz\n",
      "58\n",
      "59\n",
      "fizz\n",
      "61\n",
      "62\n",
      "bazz\n",
      "64\n",
      "buzz\n",
      "bazz\n",
      "67\n",
      "68\n",
      "bazz\n",
      "buzz\n",
      "71\n",
      "bazz\n",
      "73\n",
      "74\n",
      "fizz\n",
      "76\n",
      "77\n",
      "bazz\n",
      "79\n",
      "buzz\n",
      "bazz\n",
      "82\n",
      "83\n",
      "bazz\n",
      "buzz\n",
      "86\n",
      "bazz\n",
      "88\n",
      "89\n",
      "fizz\n",
      "91\n",
      "92\n",
      "bazz\n",
      "94\n",
      "buzz\n",
      "bazz\n",
      "97\n",
      "98\n",
      "bazz\n",
      "buzz\n"
     ]
    }
   ],
   "source": [
    "# Fizz Buzz\n",
    "\n",
    "# De 0 à 100\n",
    "# Pour tous les multiples de 3 afficher fizz\n",
    "# Pour tous les multiples de 5 afficher buzz\n",
    "# Pour tous les multiples de 3 et 5 afficher bazz\n",
    "# Sinnon afficher le nombre\n",
    "\n",
    "for i in range(101):\n",
    "    if i % 5 == 0 and i % 3 == 0:\n",
    "        print('fizz')\n",
    "    elif i % 5 == 0:\n",
    "        print('buzz')\n",
    "    elif i % 3 == 0:\n",
    "        print('bazz')\n",
    "    else:\n",
    "        print(i)"
   ]
  },
  {
   "cell_type": "code",
   "execution_count": 42,
   "metadata": {},
   "outputs": [],
   "source": [
    "# Ternaires\n",
    "age = 18\n",
    "\n",
    "etat = \"majeur\" if age > 18 else \"mineur\""
   ]
  },
  {
   "cell_type": "code",
   "execution_count": 45,
   "metadata": {},
   "outputs": [
    {
     "name": "stdout",
     "output_type": "stream",
     "text": [
      "[0, 2, 4, 6, 8, 10, 12, 14, 16, 18, 20, 22, 24, 26, 28, 30, 32, 34, 36, 38]\n"
     ]
    }
   ],
   "source": [
    "# Comprehensive list\n",
    "\n",
    "liste = [ i*2 for i in range(20) ]\n",
    "\n",
    "print(liste)"
   ]
  },
  {
   "cell_type": "code",
   "execution_count": 46,
   "metadata": {},
   "outputs": [
    {
     "name": "stdout",
     "output_type": "stream",
     "text": [
      "[4, 6]\n"
     ]
    }
   ],
   "source": [
    "liste = [ i for i in [3,4,6,1,3,7] if i % 2 == 0]\n",
    "\n",
    "print(liste)"
   ]
  },
  {
   "cell_type": "code",
   "execution_count": 49,
   "metadata": {},
   "outputs": [
    {
     "name": "stdout",
     "output_type": "stream",
     "text": [
      "['impair', 'pair', 'pair', 'impair', 'impair', 'impair']\n"
     ]
    }
   ],
   "source": [
    "liste = [ (\"pair\" if i % 2 == 0 else \"impair\") for i in [3,4,6,1,3,7]]\n",
    "\n",
    "print(liste)"
   ]
  },
  {
   "cell_type": "code",
   "execution_count": 54,
   "metadata": {},
   "outputs": [],
   "source": [
    "personne = {\n",
    "    'nom': 'Dupont',\n",
    "    'prenom': 'Charles',\n",
    "    'age': 34,\n",
    "    'adresses': ['Paris', 'Dijon', 'Sao Paulo']\n",
    "}"
   ]
  },
  {
   "cell_type": "code",
   "execution_count": 55,
   "metadata": {},
   "outputs": [
    {
     "name": "stdout",
     "output_type": "stream",
     "text": [
      "['Paris', 'Dijon', 'Sao Paulo']\n"
     ]
    }
   ],
   "source": [
    "print(personne['adresses'])"
   ]
  },
  {
   "cell_type": "code",
   "execution_count": 57,
   "metadata": {},
   "outputs": [],
   "source": [
    "liste_personnes = [\n",
    "{\n",
    "    'nom': 'Dupont',\n",
    "    'prenom': 'Charles',\n",
    "    'age': 34,\n",
    "    'adresses': ['Paris', 'Dijon', 'Sao Paulo']\n",
    "},\n",
    "{\n",
    "    'nom': 'Durand',\n",
    "    'prenom': 'Helene',\n",
    "    'age': 24,\n",
    "    'adresses': ['Paris', 'Dijon', 'Sao Paulo']\n",
    "},\n",
    "{\n",
    "    'nom': 'Dumont',\n",
    "    'prenom': 'Martin',\n",
    "    'age': 10,\n",
    "    'adresses': ['Paris', 'Dijon', 'Sao Paulo']\n",
    "},\n",
    "{\n",
    "    'nom': 'Dupond',\n",
    "    'prenom': 'Joana',\n",
    "    'age': 57,\n",
    "    'adresses': ['Paris', 'Dijon', 'Sao Paulo']\n",
    "}    \n",
    "]"
   ]
  },
  {
   "cell_type": "code",
   "execution_count": 61,
   "metadata": {},
   "outputs": [
    {
     "name": "stdout",
     "output_type": "stream",
     "text": [
      "['Charles', 'Helene', 'Joana']\n"
     ]
    }
   ],
   "source": [
    "liste_noms = [i['prenom'] for i in liste_personnes if i['age'] > 18]\n",
    "print(liste_noms)"
   ]
  },
  {
   "cell_type": "code",
   "execution_count": 67,
   "metadata": {},
   "outputs": [
    {
     "name": "stdout",
     "output_type": "stream",
     "text": [
      "[{'nom': 'Dupont', 'prenom': 'Charles', 'age': 34, 'adresses': ['Paris', 'Dijon', 'Sao Paulo']}, {'nom': 'Durand', 'prenom': 'Helene', 'age': 24, 'adresses': ['Paris', 'Dijon', 'Sao Paulo']}, {'nom': 'Dupond', 'prenom': 'Joana', 'age': 57, 'adresses': ['Paris', 'Dijon', 'Sao Paulo']}]\n"
     ]
    }
   ],
   "source": [
    "liste_prenoms = []\n",
    "for personne in liste_personnes:\n",
    "    if personne['age'] > 18:\n",
    "        liste_prenoms.append(personne)\n",
    "print(liste_prenoms)"
   ]
  },
  {
   "cell_type": "code",
   "execution_count": 64,
   "metadata": {},
   "outputs": [
    {
     "name": "stdout",
     "output_type": "stream",
     "text": [
      "[2, 4]\n"
     ]
    }
   ],
   "source": [
    "liste_vide = []\n",
    "liste_vide.append(2)\n",
    "liste_vide.append(4)\n",
    "print(liste_vide)"
   ]
  },
  {
   "cell_type": "code",
   "execution_count": 84,
   "metadata": {},
   "outputs": [
    {
     "name": "stdout",
     "output_type": "stream",
     "text": [
      "['Bank Example.ipynb', 'basepoo.ipynb', 'Bokeh initiation.ipynb', 'Cours1-egilia.ipynb', 'egilia-class.ipynb', 'ExerciceVoiture.ipynb', 'GenerateData.ipynb', 'IntroAriane.ipynb', 'Jour2-egilia.ipynb', 'Palindrome.ipynb', 'PandasExos.ipynb', 'postgreIntroduction.ipynb', 'pyqt5.ipynb', 'ScikitLearn.ipynb', 'Untitled.ipynb', 'Untitled1.ipynb']\n"
     ]
    }
   ],
   "source": [
    "import os\n",
    "\n",
    "fichiers = [f for f in os.listdir('../') if f[-6:] == '.ipynb']\n",
    "print(fichiers)"
   ]
  },
  {
   "cell_type": "code",
   "execution_count": 83,
   "metadata": {},
   "outputs": [
    {
     "name": "stdout",
     "output_type": "stream",
     "text": [
      "[4, 1, 8]\n"
     ]
    }
   ],
   "source": [
    "# Opérateur de slicing\n",
    "ma_liste = [4,5,1,7,8,4,5]\n",
    "\n",
    "# print(ma_liste[0])\n",
    "# print(ma_liste[0:3])\n",
    "# print(ma_liste[:3])\n",
    "# print(ma_liste[2:5])\n",
    "# print(ma_liste[2:])\n",
    "# print(ma_liste[-4:])\n",
    "# print(ma_liste[0:-2])\n",
    "print(ma_liste[0:5:2])\n"
   ]
  },
  {
   "cell_type": "code",
   "execution_count": 63,
   "metadata": {},
   "outputs": [
    {
     "name": "stdout",
     "output_type": "stream",
     "text": [
      "None\n",
      "[' 120 000 ', ' 12']\n"
     ]
    }
   ],
   "source": [
    "import re\n",
    "\n",
    "chaine = \"bouquet 120 000 €\"\n",
    "print(re.match('GR.?S', chaine))\n",
    "''.join(re.findall('\\d+', chaine))\n",
    "prix = re.findall('[\\d ]+', chaine)\n",
    "print(prix)"
   ]
  },
  {
   "cell_type": "code",
   "execution_count": 97,
   "metadata": {},
   "outputs": [
    {
     "name": "stdout",
     "output_type": "stream",
     "text": [
      "['Finish.log', 'FreeStyler', 'OneDriveTemp', 'PerfLogs', 'Program Files', 'Program Files (x86)', 'ProgramData', 'Recovery', 'SiudiDriver', 'SunliteSuite2', 'System Volume Information', 'Users', 'Windows']\n"
     ]
    }
   ],
   "source": [
    "# Récupérer tous les fichiers/dossiers qui commencent par une majuscule\n",
    "liste = [f for f in os.listdir('/') if re.match('[A-Z].*' , f) is not None]\n",
    "print(liste)"
   ]
  },
  {
   "cell_type": "code",
   "execution_count": 98,
   "metadata": {},
   "outputs": [
    {
     "name": "stdout",
     "output_type": "stream",
     "text": [
      "Quel est votre nom ?Bolnet\n"
     ]
    }
   ],
   "source": [
    "nom = input('Quel est votre nom ?')"
   ]
  },
  {
   "cell_type": "code",
   "execution_count": 107,
   "metadata": {},
   "outputs": [
    {
     "name": "stdout",
     "output_type": "stream",
     "text": [
      "Bolnet\n",
      "False\n",
      "Bonjour vous avez 24ans\n",
      "Bonjour vous avez 24 ans\n"
     ]
    }
   ],
   "source": [
    "print(nom)\n",
    "print(type(nom) == int)\n",
    "\n",
    "age = int(\"24\")\n",
    "age = 24\n",
    "\n",
    "print(\"Bonjour vous avez \" + str(age) + \"ans\")\n",
    "print(f\"Bonjour vous avez {age} ans\")"
   ]
  },
  {
   "cell_type": "code",
   "execution_count": 108,
   "metadata": {},
   "outputs": [],
   "source": [
    "# Demander nom, prenom et age\n",
    "# Afficher Bonjour {nom} {prenom}, vous avez {age} ans. Et vous êtes majeur/mineur\n",
    "\n"
   ]
  },
  {
   "cell_type": "code",
   "execution_count": 109,
   "metadata": {},
   "outputs": [
    {
     "name": "stdout",
     "output_type": "stream",
     "text": [
      "C'est trop grand\n",
      "C'est trop grand\n",
      "C'est trop grand\n",
      "C'est trop grand\n",
      "C'est trop grand\n",
      "C'est trop grand\n",
      "C'est trop grand\n",
      "C'est trop grand\n",
      "C'est trop grand\n",
      "C'est trop grand\n",
      "fini\n"
     ]
    }
   ],
   "source": [
    "nombre_aleatoire = 50\n",
    "proposition = 60\n",
    "\n",
    "while proposition != nombre_aleatoire:\n",
    "    print(\"C'est trop grand\")\n",
    "    proposition -= 1\n",
    "\n",
    "print(\"fini\")"
   ]
  },
  {
   "cell_type": "code",
   "execution_count": 110,
   "metadata": {},
   "outputs": [
    {
     "name": "stdout",
     "output_type": "stream",
     "text": [
      "Quelle est votre proposition ?50\n",
      "Proposition trop grande\n",
      "Quelle est votre proposition ?25\n",
      "Proposition trop petite\n",
      "Quelle est votre proposition ?32\n",
      "Proposition trop petite\n",
      "Quelle est votre proposition ?43\n",
      "Proposition trop grande\n",
      "Quelle est votre proposition ?40\n",
      "Proposition trop grande\n",
      "Quelle est votre proposition ?36\n",
      "Proposition trop grande\n",
      "Quelle est votre proposition ?34\n",
      "Proposition trop petite\n",
      "Quelle est votre proposition ?35\n",
      "Vous avez gagné !\n"
     ]
    }
   ],
   "source": [
    "# Générr un nombre aléatoire entre 0 et 100\n",
    "from random import randint\n",
    "\n",
    "nombre_aleatoire = randint(0,100)\n",
    "proposition = -1\n",
    "\n",
    "# Pour chaque tour attendre une proposition\n",
    "# Si elle est trop grande on affiche trop grand\n",
    "# Si elle est trop petite on affiche trop petit\n",
    "# sinon on affiche \"gagné\" et on sort de la boucle\n",
    "\n",
    "while nombre_aleatoire != proposition:\n",
    "    proposition = int(input('Quelle est votre proposition ?'))\n",
    "    if nombre_aleatoire > proposition:\n",
    "        print(\"Proposition trop petite\")\n",
    "    elif nombre_aleatoire < proposition:\n",
    "        print(\"Proposition trop grande\")\n",
    "\n",
    "print('Vous avez gagné !')"
   ]
  },
  {
   "cell_type": "code",
   "execution_count": null,
   "metadata": {},
   "outputs": [
    {
     "name": "stdout",
     "output_type": "stream",
     "text": [
      "Est-ce que c'est 50 ? (P/G/E)G\n",
      "Est-ce que c'est 25 ? (P/G/E)P\n",
      "Est-ce que c'est 37 ? (P/G/E)G\n",
      "Est-ce que c'est 31 ? (P/G/E)G\n",
      "Est-ce que c'est 28 ? (P/G/E)P\n",
      "Est-ce que c'est 29 ? (P/G/E)P\n"
     ]
    }
   ],
   "source": [
    "borne_min = 0\n",
    "borne_max = 100\n",
    "proposition = (borne_min + borne_max) // 2\n",
    "\n",
    "reponse = input(f\"Est-ce que c'est {proposition} ? (P/G/E)\")\n",
    "\n",
    "while reponse != \"E\":\n",
    "    if reponse == \"P\":\n",
    "        borne_min = proposition\n",
    "        proposition = (borne_min + borne_max) // 2\n",
    "    else:\n",
    "        borne_max = proposition\n",
    "        proposition = (borne_min + borne_max) // 2\n",
    "    reponse = input(f\"Est-ce que c'est {proposition} ? (P/G/E)\")\n",
    "\n",
    "print(\"voila\")"
   ]
  },
  {
   "cell_type": "code",
   "execution_count": 18,
   "metadata": {},
   "outputs": [
    {
     "name": "stdout",
     "output_type": "stream",
     "text": [
      "Bonjour Martin Emilie tu as 43 ans\n"
     ]
    }
   ],
   "source": [
    "def dire_bonjour(nom, prenom='Charles', age=36):\n",
    "    return f'Bonjour {nom} {prenom} tu as {age} ans'\n",
    "    \n",
    "dire_bonjour(\"Martin\", \"Elianne\")\n",
    "print(dire_bonjour(\"Martin\", \"Emilie\", 43))"
   ]
  },
  {
   "cell_type": "code",
   "execution_count": 2,
   "metadata": {},
   "outputs": [
    {
     "name": "stdout",
     "output_type": "stream",
     "text": [
      "Bonjour tout le monde\n"
     ]
    }
   ],
   "source": [
    "dire_bonjour()"
   ]
  },
  {
   "cell_type": "code",
   "execution_count": 23,
   "metadata": {},
   "outputs": [],
   "source": [
    "from selenium import webdriver\n",
    "\n",
    "browser = webdriver.Chrome()"
   ]
  },
  {
   "cell_type": "code",
   "execution_count": 46,
   "metadata": {},
   "outputs": [],
   "source": [
    "browser.get('https://www.seloger.com/list.htm?tri=initial&enterprise=0&idtypebien=2,1&pxMax=400000&idtt=2,5&naturebien=1,2,4&cp=75')"
   ]
  },
  {
   "cell_type": "code",
   "execution_count": 47,
   "metadata": {},
   "outputs": [],
   "source": [
    "liste_prix = browser.find_elements_by_class_name('Price__Label-sc-1g9fitq-1')"
   ]
  },
  {
   "cell_type": "code",
   "execution_count": 48,
   "metadata": {},
   "outputs": [
    {
     "name": "stdout",
     "output_type": "stream",
     "text": [
      "['bouquet\\n92 500 €', 'bouquet\\n128 667 €', 'bouquet\\n129 250 €', 'bouquet\\n152 650 €', 'bouquet\\n199 900 €', 'bouquet\\n251 879 €', '269 000 €', '280 000 €', '339 200 €', '347 000 €', 'bouquet\\n371 500 €', 'bouquet\\n374 874 €', '388 000 €', '399 000 €', '399 000 €', 'bouquet\\n48 647 €', 'bouquet\\n52 804 €', '59 000 €', '79 000 €', '125 000 €', '130 000 €', '143 000 €', '150 000 €', '150 000 €', '167 000 €']\n"
     ]
    }
   ],
   "source": [
    "print([ e.text for e in liste_prix])"
   ]
  },
  {
   "cell_type": "code",
   "execution_count": 54,
   "metadata": {},
   "outputs": [
    {
     "name": "stdout",
     "output_type": "stream",
     "text": [
      "[92500, 128667, 129250, 152650, 199900, 251879, 269000, 280000, 339200, 347000, 371500, 374874, 388000, 399000, 399000, 48647, 52804, 59000, 79000, 125000, 130000, 143000, 150000, 150000, 167000]\n"
     ]
    },
    {
     "data": {
      "text/plain": [
       "209074.84"
      ]
     },
     "execution_count": 54,
     "metadata": {},
     "output_type": "execute_result"
    }
   ],
   "source": [
    "import numpy as np\n",
    "\n",
    "prix = [ e.text for e in liste_prix]\n",
    "prix = [ re.findall('[\\d ]+', chaine) for chaine in prix]\n",
    "prix = [ int(chaine[0].replace(' ', '')) for chaine in prix]\n",
    "\n",
    "print(prix)\n",
    "\n",
    "np.mean(prix)"
   ]
  },
  {
   "cell_type": "code",
   "execution_count": 59,
   "metadata": {},
   "outputs": [],
   "source": [
    "bouton = browser.find_element_by_xpath('//*[text()=\"Sauvegarder\"]')\n",
    "bouton.click()"
   ]
  },
  {
   "cell_type": "code",
   "execution_count": 64,
   "metadata": {},
   "outputs": [
    {
     "name": "stdout",
     "output_type": "stream",
     "text": [
      "['315 000 €', '350 000 €', '381 000 €', '385 000 €', '388 000 €', '385 000 €', '380 000 €', '195 000 €', '350 000 €', '399 000 €', '244 000 €', '368 000 €', '399 000 €', '139 100 €', '143 500 €', '170 000 €', '180 000 €', '219 000 €', '228 000 €', '240 000 €', '255 000 €', '275 000 €', '285 000 €', '285 000 €', '285 500 €']\n",
      "[['315 000 '], ['350 000 '], ['381 000 '], ['385 000 '], ['388 000 '], ['385 000 '], ['380 000 '], ['195 000 '], ['350 000 '], ['399 000 '], ['244 000 '], ['368 000 '], ['399 000 '], ['139 100 '], ['143 500 '], ['170 000 '], ['180 000 '], ['219 000 '], ['228 000 '], ['240 000 '], ['255 000 '], ['275 000 '], ['285 000 '], ['285 000 '], ['285 500 ']]\n",
      "[315000, 350000, 381000, 385000, 388000, 385000, 380000, 195000, 350000, 399000, 244000, 368000, 399000, 139100, 143500, 170000, 180000, 219000, 228000, 240000, 255000, 275000, 285000, 285000, 285500]\n"
     ]
    },
    {
     "data": {
      "text/plain": [
       "289764.0"
      ]
     },
     "execution_count": 64,
     "metadata": {},
     "output_type": "execute_result"
    }
   ],
   "source": [
    "import numpy as np\n",
    "from time import sleep\n",
    "\n",
    "def get_mean_by_cp(cp='75'):\n",
    "    browser.get('https://www.seloger.com/list.htm?tri=initial&enterprise=0&idtypebien=2,1&pxMax=400000&idtt=2,5&naturebien=1,2,4&cp='+cp)\n",
    "    sleep(2)\n",
    "    liste_prix = browser.find_elements_by_class_name('Price__Label-sc-1g9fitq-1')\n",
    "    prix = [ e.text for e in liste_prix]\n",
    "    print(prix)\n",
    "    prix = [ re.findall('[\\d ]+', chaine) for chaine in prix]\n",
    "    print(prix)\n",
    "    prix = [ int(chaine[0].replace(' ', '')) for chaine in prix]\n",
    "    print(prix)\n",
    "    return np.mean(prix)\n",
    "\n",
    "get_mean_by_cp('92400')"
   ]
  },
  {
   "cell_type": "code",
   "execution_count": 73,
   "metadata": {},
   "outputs": [
    {
     "name": "stdout",
     "output_type": "stream",
     "text": [
      "{'nom': 'George'}\n"
     ]
    }
   ],
   "source": [
    "dico = {'nom': 'George'}\n",
    "valeur = \"Bonjour\"\n",
    "liste = [2,6,5]\n",
    "mon_tuple = (2,6,9)\n",
    "\n",
    "def valeur_de_a(personne):\n",
    "#     personne = 5\n",
    "    personne['nom'] = 'Alain'\n",
    "\n",
    "\n",
    "valeur_de_a(dico)\n",
    "print(dico)"
   ]
  },
  {
   "cell_type": "code",
   "execution_count": 75,
   "metadata": {},
   "outputs": [
    {
     "data": {
      "text/plain": [
       "[1, 3, 4, 6, 7]"
      ]
     },
     "execution_count": 75,
     "metadata": {},
     "output_type": "execute_result"
    }
   ],
   "source": [
    "ma_liste = [4,3,6,7,1]\n",
    "\n",
    "def tri_bulle(arr):\n",
    "    for j in range(len(arr)-1):\n",
    "        for i in range(len(arr)-1):\n",
    "            if arr[i] > arr[i+1]:\n",
    "                arr[i], arr[i+1] = arr[i+1], arr[i]\n",
    "    return arr\n",
    "\n",
    "\n",
    "tri_bulle(ma_liste)"
   ]
  },
  {
   "cell_type": "code",
   "execution_count": 79,
   "metadata": {},
   "outputs": [
    {
     "name": "stdout",
     "output_type": "stream",
     "text": [
      "0     9\n",
      "1     1\n",
      "2    36\n",
      "3    49\n",
      "dtype: int64\n"
     ]
    }
   ],
   "source": [
    "import pandas as pd\n",
    "\n",
    "serie = pd.Series([3,1,6,7])\n",
    "# .map(lambda x : x**2)\n",
    "print(serie.map(lambda x: x **2))"
   ]
  },
  {
   "cell_type": "code",
   "execution_count": 80,
   "metadata": {},
   "outputs": [
    {
     "name": "stdout",
     "output_type": "stream",
     "text": [
      "range(0, 10)\n"
     ]
    }
   ],
   "source": [
    "print(range(10))"
   ]
  },
  {
   "cell_type": "code",
   "execution_count": 88,
   "metadata": {},
   "outputs": [
    {
     "name": "stdout",
     "output_type": "stream",
     "text": [
      "2\n",
      "Delta 2.000676155090332\n",
      "4\n",
      "Delta 4.0001983642578125\n",
      "6\n",
      "Delta 4.0009918212890625\n",
      "8\n",
      "Delta 4.001736402511597\n",
      "10\n",
      "Delta 4.0009660720825195\n"
     ]
    }
   ],
   "source": [
    "from time import sleep, time\n",
    "\n",
    "\n",
    "def notre_range(init, finale, pas=1):\n",
    "    i = init\n",
    "    while i < finale:\n",
    "        yield i\n",
    "        sleep(2)\n",
    "        i += pas\n",
    "\n",
    "debut = time()\n",
    "for n in notre_range(2,12, 2):\n",
    "    print(n)\n",
    "    sleep(2)\n",
    "    print('Delta', time() - debut)\n",
    "    debut = time()"
   ]
  },
  {
   "cell_type": "code",
   "execution_count": 85,
   "metadata": {},
   "outputs": [],
   "source": [
    "from time import sleep, time\n",
    "\n",
    "t = time()"
   ]
  },
  {
   "cell_type": "code",
   "execution_count": 86,
   "metadata": {},
   "outputs": [
    {
     "data": {
      "text/plain": [
       "1569310132.4148092"
      ]
     },
     "execution_count": 86,
     "metadata": {},
     "output_type": "execute_result"
    }
   ],
   "source": [
    "t"
   ]
  },
  {
   "cell_type": "code",
   "execution_count": null,
   "metadata": {},
   "outputs": [],
   "source": []
  }
 ],
 "metadata": {
  "kernelspec": {
   "display_name": "Python 3",
   "language": "python",
   "name": "python3"
  },
  "language_info": {
   "codemirror_mode": {
    "name": "ipython",
    "version": 3
   },
   "file_extension": ".py",
   "mimetype": "text/x-python",
   "name": "python",
   "nbconvert_exporter": "python",
   "pygments_lexer": "ipython3",
   "version": "3.7.3"
  }
 },
 "nbformat": 4,
 "nbformat_minor": 2
}
