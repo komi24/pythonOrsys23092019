{
 "cells": [
  {
   "cell_type": "code",
   "execution_count": 9,
   "metadata": {},
   "outputs": [],
   "source": [
    "from tkinter import Tk, Label, Button\n",
    "from tkinter import TOP, BOTTOM, LEFT, RIGHT\n",
    "\n",
    "fen = Tk()\n",
    "\n",
    "label = Label(fen, text=\"Bonjour tout le monde!\")\n",
    "label.pack(side=BOTTOM)\n",
    "\n",
    "button1 = Button(fen, text=\"Boutton 1\")\n",
    "# button1.pack(side=LEFT, expand=True, fill='both')\n",
    "button1.pack(side=LEFT, expand=True, fill='y')\n",
    "\n",
    "button2 = Button(fen, text=\"Boutton 2\")\n",
    "button2.pack()\n",
    "\n",
    "button3 = Button(fen, text=\"Boutton 3\")\n",
    "button3.pack()\n",
    "\n",
    "fen.mainloop()"
   ]
  },
  {
   "cell_type": "code",
   "execution_count": 11,
   "metadata": {},
   "outputs": [],
   "source": [
    "\n",
    "from tkinter import Tk, Label, Button\n",
    "from tkinter import TOP, BOTTOM, LEFT, RIGHT\n",
    "\n",
    "fen = Tk()\n",
    "\n",
    "button1 = Button(fen, text=\"Boutton 1\")\n",
    "button1.grid(row=2,column=0)\n",
    "\n",
    "button2 = Button(fen, text=\"Boutton 2\")\n",
    "button2.grid(row=1,column=0)\n",
    "\n",
    "button3 = Button(fen, text=\"Boutton 3\")\n",
    "button3.grid(row=1,column=1)\n",
    "\n",
    "fen.mainloop()"
   ]
  },
  {
   "cell_type": "code",
   "execution_count": 12,
   "metadata": {},
   "outputs": [],
   "source": [
    "from tkinter import Tk, Label, Button\n",
    "from tkinter import TOP, BOTTOM, LEFT, RIGHT\n",
    "from itertools import product\n",
    "\n",
    "fen = Tk()\n",
    "\n",
    "for i, j in product(range(3),range(3)):\n",
    "    button1 = Button(fen, text=f\"Boutton {i}-{j}\")\n",
    "    button1.grid(row=i,column=j)\n",
    "\n",
    "fen.mainloop()"
   ]
  },
  {
   "cell_type": "code",
   "execution_count": 17,
   "metadata": {},
   "outputs": [],
   "source": [
    "from tkinter import Tk, Label, Button, Frame\n",
    "from tkinter import TOP, BOTTOM, LEFT, RIGHT\n",
    "from itertools import product\n",
    "\n",
    "fen = Tk()\n",
    "\n",
    "label = Label(fen, text=\"Hello\")\n",
    "label.pack()\n",
    "\n",
    "frame = Frame(fen)\n",
    "frame.pack()\n",
    "\n",
    "for i, j in product(range(3),range(3)):\n",
    "    button1 = Button(frame, text=f\"{i}-{j}\", width=6, height=3)\n",
    "    button1.grid(row=i,column=j)\n",
    "\n",
    "fen.mainloop()"
   ]
  },
  {
   "cell_type": "code",
   "execution_count": 25,
   "metadata": {},
   "outputs": [
    {
     "name": "stdout",
     "output_type": "stream",
     "text": [
      "operator .!frame.!button\n"
     ]
    }
   ],
   "source": [
    "from tkinter import Tk, Label, Button, Frame\n",
    "from tkinter import TOP, BOTTOM, LEFT, RIGHT\n",
    "from itertools import product\n",
    "\n",
    "fen = Tk()\n",
    "\n",
    "def print_valider():\n",
    "    print(\"Valider\")\n",
    "\n",
    "def print_operator(e):\n",
    "    print(\"operator\", e.widget)\n",
    "\n",
    "label = Label(fen, text=\"0\", height=3)\n",
    "label.pack()\n",
    "\n",
    "btn_valider = Button(fen, text=\"valider\", height=3, command=print_valider)\n",
    "btn_valider.pack(side=BOTTOM, expand=True, fill='x')\n",
    "\n",
    "frame_op = Frame(fen)\n",
    "frame_op.pack(side=RIGHT)\n",
    "\n",
    "btn_zero = Button(fen, text=\"0\", height=3)\n",
    "btn_zero.pack(side=BOTTOM, expand=True, fill='x')\n",
    "\n",
    "frame_num = Frame(fen)\n",
    "frame_num.pack()\n",
    "\n",
    "for op in ['+','-','*','/']:\n",
    "    button = Button(frame_op, text=op, width=6, height=3)\n",
    "    button.pack()\n",
    "    button.bind('<Button-1>', print_operator)\n",
    "\n",
    "for i, j in product(range(3),range(3)):\n",
    "    button1 = Button(frame_num, text=str(3*(2-i) + j + 1), width=6, height=3)\n",
    "    button1.grid(row=i,column=j)\n",
    "\n",
    "fen.mainloop()"
   ]
  },
  {
   "cell_type": "code",
   "execution_count": null,
   "metadata": {},
   "outputs": [],
   "source": []
  }
 ],
 "metadata": {
  "kernelspec": {
   "display_name": "Python 3",
   "language": "python",
   "name": "python3"
  },
  "language_info": {
   "codemirror_mode": {
    "name": "ipython",
    "version": 3
   },
   "file_extension": ".py",
   "mimetype": "text/x-python",
   "name": "python",
   "nbconvert_exporter": "python",
   "pygments_lexer": "ipython3",
   "version": "3.7.3"
  }
 },
 "nbformat": 4,
 "nbformat_minor": 2
}
